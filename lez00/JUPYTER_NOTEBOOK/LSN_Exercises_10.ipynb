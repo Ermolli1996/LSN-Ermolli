{
 "cells": [
  {
   "cell_type": "markdown",
   "metadata": {},
   "source": [
    "# <span style=\"color:green\"> Numerical Simulation Laboratory (NSL) </span>\n",
    "## <span style=\"color:blue\">  Numerical exercises 10</span>"
   ]
  },
  {
   "cell_type": "markdown",
   "metadata": {},
   "source": [
    "### Exercise 10.1\n",
    "\n",
    "By adapting your Genetic Algorithm (GA) code, developed during the Numerical Exercise 9, write a C++ code to solve the TSP with a **Simulated Annealing** (SA) algorithm. Apply your code to the optimization of a path among \n",
    "\n",
    "- 32 cities randomly placed on a circumference\n",
    "- 32 cities randomly placed inside a square\n",
    "\n",
    "Show your results via:\n",
    "\n",
    "- a picture of the length of the best path as a function of the iteration of your algorithm\n",
    "- a picture of the best path\n",
    "\n",
    "and compare your SA results with those obtained with GA in the previosu numerical exercise."
   ]
  },
  {
   "cell_type": "markdown",
   "metadata": {},
   "source": [
    "### Exercise 10.2\n",
    "\n",
    "Parallelize with MPI libraries your Genetic Algorithm code in order to solve the TSP by performing a *Genetic Search* with 4 **parallel GA searches of the optimal path**:\n",
    "each node should perform an independent GA search the so-called *Continents*, **but** every $N_{migr}$ generations the *Continents* should exchange their best individuals randomly.\n",
    "Apply your code to the TSP problem for 32 cities randomly placed inside a square and try to estimate if your performances improve with *Continents*."
   ]
  },
  {
   "cell_type": "markdown",
   "metadata": {},
   "source": [
    "10.1\n",
    "\n",
    "Partire da un cammino e costruirsi un'energia (legata alla lunghezza del percorso): inziare a campioare exp(-betaE); beta temperatura fittizia che dopo una certa fase di accettazione di proposte verrà abbassata. Bisogna implementare un metropolis e una serie di temp fittezie alle quali fare vivere il sistema per un certo peridodo. A temperatura bassa troverete la soluzione del percorso. Ricerca del percorso ottimale per le 32 città. Puro simulated annealing senza crossing.\n",
    "\n",
    "10.2\n",
    "\n",
    "Esercizio di parallelizzazione. Le librerie MPI si trovano nelle macchine del labo di calcolo oppure scaricare librerie MPIch sunostro pc.\n",
    "Prendere algoritmo genetico funzionante e parallelizzarlo per produrre 4 ricerche parallele con algoritmo genetico. Siamo nel paradigma singol program multiple data: bisogna aggiungere l'inizializzazione e la finalizzazione delle librerie mpi il codice. Bisogna far leggere ad ogni nodo del calcolo una coppia di completamento de seme dei numero casuali che sono in Primes (ciclo in cui chiedo al core i-esimo di leggere la riga i-esima). Ogni n migrations generations parte la migrazione: quando parte la migrazione questi 4 core (continenti) si scambiano in modo causale il loro migliore individuo. Dopo un altro numero di generazioni avviene una successiva migrazione: questa elaborazione parallela con migrazioni dei best produce un algoritmo con performance di ottimizzazione migliore?\n",
    "\n",
    "MPI\n",
    "\n",
    "Load di MPI\n",
    "\n",
    "Escuzione: mpirum -4 a.out\n",
    "\n",
    "Normale che ci sia concorrenza fra input e output\n",
    "Nell'output è opportuno che ogni nodo scriva in un file diverso!\n",
    "Capire bene come scambiare i vector: la cosa migliore è trasferire dati semplici e sovrascriverli sopra il migliore dell'altra popolazione\n"
   ]
  },
  {
   "cell_type": "code",
   "execution_count": null,
   "metadata": {},
   "outputs": [],
   "source": []
  }
 ],
 "metadata": {
  "kernelspec": {
   "display_name": "Python 3",
   "language": "python",
   "name": "python3"
  },
  "language_info": {
   "codemirror_mode": {
    "name": "ipython",
    "version": 3
   },
   "file_extension": ".py",
   "mimetype": "text/x-python",
   "name": "python",
   "nbconvert_exporter": "python",
   "pygments_lexer": "ipython3",
   "version": "3.7.3"
  }
 },
 "nbformat": 4,
 "nbformat_minor": 2
}
