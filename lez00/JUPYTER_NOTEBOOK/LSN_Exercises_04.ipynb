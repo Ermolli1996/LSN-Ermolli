{
 "cells": [
  {
   "cell_type": "markdown",
   "metadata": {},
   "source": [
    "# <span style=\"color:green\"> Numerical Simulation Laboratory (NSL) </span>\n",
    "## <span style=\"color:blue\">  Numerical exercises 4</span>"
   ]
  },
  {
   "cell_type": "markdown",
   "metadata": {},
   "source": [
    "### Exercise 04.1\n",
    "\n",
    "The Molecular Dynamics (MD) code starts the simulation run from a provided spatial configuration of the $N$ particles (file: <font face=\"Courier\">config.0</font>) and, once the simulation is finished, it writes out the final configuration (file: <font face=\"Courier\">config.final</font>). \n",
    "1. <span style=\"color:red\">Improve the MD code by enabling (you should insert this option via a boolean-like variable in the input file) the **possibility** to **(re)start** reading not only a **actual** spatial configuration [$\\vec{r}(t)$] file but also an **old** spatial configuration [$\\vec{r}(t-dt)$] file</span> (files: <font face=\"Courier\">old.0</font> and <font face=\"Courier\">old.final</font>).\n",
    "2. Moreover, <span style=\"color:red\">add the possibility to rescale the velocities [i.e. to correct $\\vec{r}(t-dt)$] in order to match a desired temperature</span>.\n",
    "3. In your report, put some pictures which show that you have been able to equilibrate the thermodynamic phases at the beginning of your simulations.\n",
    "\n",
    "The typical required operations when the re-start option will be enabled are:\n",
    "1. read $\\vec{r}(t)$ and $\\vec{r}(t-dt)$ from the corresponding input files\n",
    "2. compute $\\vec{r}(t+dt)$ with one step of the Verlet algorithm; with $\\vec{r}(t+dt)$ and $\\vec{r}(t)$ compute $\\vec{v}(t+dt/2)$; finally obtain the actual temperature $T(t+dt/2)$\n",
    "3. by comparing $T(t+dt/2)$ with the desired/target temperature  $T^\\star$ extract a scaling factor for the velocities and rescale them: $\\vec{v}(t) \\to \\vec{v}_s(t)$\n",
    "4. use $\\vec{v}_s(t)$ to estimate a novel **old** spatial configuration: $\\vec{r}_{new}(t) = \\vec{r}(t+dt) - dt \\vec{v}_s$\n",
    "5. use $\\vec{r}_{new}(t)$ and $\\vec{r}(t+dt)$ to start the simulation\n",
    "6. Do not forget to use **periodic boundary contitions** every time it is appropriate!\n",
    "\n",
    "This will help you, especially in the equilibration phases of your simulations."
   ]
  },
  {
   "cell_type": "markdown",
   "metadata": {},
   "source": [
    "### Exercise 04.2\n",
    "\n",
    "The Molecular Dynamics code we have provided prints out only instantaneous values for the total (internal) energy per particle, $E/N$, potential energy per particle, $U/N$, kinetic energy per particle, $K/N$, and temperature, $T$.\n",
    "Take the MD code and include block averaging: \n",
    "\n",
    "Divide the <span style=\"color:blue\"><font face=\"Courier\">nstep</font></span> of the simulation into <span style=\"color:blue\"><font face=\"Courier\">nblocks</font></span>. By exploiting these blocks, <span style=\"color:red\">code the calculation of the average values and the uncertainties for $E/N$, $U/N$, $K/N$ and $T$</span>, that will be written in new specific output files, for example: <font face=\"Courier\">ave_epot.out, ave_ekin.out, ave_etot.out, ave_temp.out</font></span>"
   ]
  },
  {
   "cell_type": "markdown",
   "metadata": {},
   "source": [
    "### Exercise 04.3\n",
    "\n",
    "By means of your upgraded MD code, equilibrate and <span style=\"color:red\">perform MD simulations via a Lennard-Jones model</span> of Argon ($\\sigma = 0.34$ nm, $\\epsilon/k_B = 120$ K, $m=39.948$ amu) in the following conditions:\n",
    "1. solid phase: $\\rho^\\star = 1.1$, $T^\\star = 0.8$ (cut-off radius: $r_c = 2.2$)\n",
    "2. liquid phase: $\\rho^\\star = 0.8$, $T^\\star = 1.1$ (cut-off radius: $r_c = 2.5$)\n",
    "3. gas phase: $\\rho^\\star = 0.05$, $T^\\star = 1.2$ (cut-off radius: $r_c = 5.0$)\n",
    "\n",
    "and show in pictures the obtained average values and uncertainties for the total (internal) energy per particle, $E/N$, the potential energy per particle, $U/N$, the kinetic energy per particle, $K/N$ and the temperature, $T$ ... in SI units!"
   ]
  },
  {
   "cell_type": "markdown",
   "metadata": {},
   "source": [
    "### <span style=\"color:green\"> Optional exercise</span>\n",
    "\n",
    "Include the calculation of the pressure, $P$, inside your Molecular Dynamics code: istantaneous values, average values and uncertainties.\n",
    "\n",
    "Remember that, via the **virial theorem**, the pressure in a Lennard-Jones system can be estimated by means of:\n",
    "\n",
    "$$ P = \\rho k_B T + \\frac{1}{3V} \\left\\langle \\sum_{i=1}^{N-1} \\sum_{j\\,(>i)}^N 48\\epsilon \\left[ \\left(\\frac{\\sigma}{|\\vec{r}_i -\\vec{r}_j|}\\right)^{12} - \n",
    "\\frac{1}{2} \\left(\\frac{\\sigma}{|\\vec{r}_i -\\vec{r}_j|}\\right)^6 \\right] \\right\\rangle $$"
   ]
  },
  {
   "cell_type": "markdown",
   "metadata": {},
   "source": [
    "### NOTE\n",
    "\n",
    "Cartella din mol in C++: \n",
    "\n",
    "-clean.sh: cancella gli output prodotti dal codice\n",
    "\n",
    "-config.0: configuazrione iniziale (coordinate con modulo minore di 0.5)\n",
    "\n",
    "-config.final: file sovrascritto alla fine della simulazione con la configurazione finale nelle posizioni\n",
    "\n",
    "-config.fcc: reticolo fcc perfetto\n",
    "\n",
    "-cartella frames: conterrà le configurazioni che servono per fare dei filmati\n",
    "\n",
    "-input.dat: contiene i parametri\n",
    "\n",
    "-input.liquid: esempi di input per la simulazione liquida\n",
    "\n",
    "-input.solid: esempi di input per la simulazione solida\n",
    "\n",
    "4 file di output (più tutti quelli in frames)\n",
    "\n",
    "Configuarzione SOLIDA\n",
    "\n",
    "Etot fluttua attorno ad un valore totale dopo un balzo iniziale. L'algoritmo di Verleet conserva bene l'energia su tempi lunghi. Ecin e Epot fluttuano su scale maggiori: ripartizione di energia fra cinetica e potenziale.\n",
    "\n",
    "Temperatura ed Ecin collegate: c'è solo un fattore di scala\n",
    "\n",
    "Il sistema tende a disordinare l'ordine del sistema cristallino: amumenta Epot e quindi dimunuisce Ecin\n",
    "\n",
    "Ovito: visualizzatore di file con coordinate xyz\n",
    "\n",
    "Il sistema mantiene la fase solida: le particelle oscillano attorno alle condizioni di equilibrio: L'interazione di LJ produce l'interazione di una fase solida\n",
    "\n",
    "Prima della simulazione successiva: ./clean.sh\n",
    "\n",
    "configurazione LIQUIDA\n",
    "\n",
    "L'E cin crolla e quella potenziale aumenta. E tot è ancora negativa: domina ancora l'energia potenziale, ma non tanto quanto prima\n",
    "\n",
    "Nei pochi step iniziale si va a una fase disordinata liquida\n",
    "\n",
    "CODICE IN C++\n",
    "\n",
    "Meccanica statistica nel microcanonico risolvendo equazioni del moto: correlazioni! Per calcolare le incertezze si usa il DataBlocking\n",
    "\n",
    "Input: legge le variabili nel file dati.dat e va a calcolare il volume per calcolarsi la lunghezza del box in unità di LJ. Legge il cut off, il time step e gli altri parametri. Prepara egli indici da punture un vettore. Legge dal file config.0 le coordinate e le multiplica per box. Prepra il sistema per poter partire: Verleet lavora con le posizioni e quelle precedenti. Scelta causale delle velocità (pericoloso: non vogliamo moto di deriva); si sottrae la sommatoria da tutte le velocità per togliere il drift. Si trova il fattore di scala per riscalare la velocità e ottenere la temperatura; si ottengono le posizioni precedenti xold, yold, zold in periodic boundary conidtion (metodo non molto accurato: salto grosso di Ecin nei primi step).\n",
    "\n",
    "Move: implementazione dell'algoritmo di Verlet. Non si divide per la massa perchè è unitaria. Stima delle velocità a partire delle posizioni a t+dt e t-dt \n",
    "\n",
    "Force: calcolo della forza. Qual è la forza che agisce sulla particella i-esima? Ciclo su tutte le particelle tranne la stessa: calcolo il vettore distanza in pbc, calcolo il modulo della distanza e se è minore al cut off calcolo il contributo e li sommo fra loro; la forza è data dal prodotto della distanza e del gradiente di V.\n",
    "Cambiando potenziale si dovrebbe sostituire un nuvo gradiente.\n",
    "\n",
    "Measure: apre in formato append i quattro file. Epot: dobbio ciclo su tutte le particelle. Ecin: ciclo sulle particelle a cui si somma ogni volta 0.5Mv2.\n",
    "\n",
    "ConfXYZ: scrive la configurzione durnte l'eq del moto.\n",
    "\n",
    "ConfFinal: scrive configurazione finale: coordinate nell'unità di misura del box per poterle riutilizzare indipendentemente dala densità con cui simulo il sistema.\n",
    "\n",
    "\n",
    "\n",
    "\n",
    "Es1 Migliorare il codice di din mol. Mostrae figure di soprattutto temperatura per equilibrare il sistema a una temperatura prossima a quella media.\n",
    "\n",
    "Es2 implementare le incertezze: fare grafici delle quattro grandezze con le incertezze a blocchi\n",
    "\n",
    "Es3 Simulazione liquido di Argon per fase solida, liquida e gassosa: date i risultate in SI!!! (una simulazione in LJ permette di descrivere molti gas nobili: bisogna riscalare le costanti)\n",
    "\n",
    "Es opz: introdurre il calcolo della pressione\n"
   ]
  },
  {
   "cell_type": "code",
   "execution_count": null,
   "metadata": {},
   "outputs": [],
   "source": []
  }
 ],
 "metadata": {
  "kernelspec": {
   "display_name": "Python 3",
   "language": "python",
   "name": "python3"
  },
  "language_info": {
   "codemirror_mode": {
    "name": "ipython",
    "version": 3
   },
   "file_extension": ".py",
   "mimetype": "text/x-python",
   "name": "python",
   "nbconvert_exporter": "python",
   "pygments_lexer": "ipython3",
   "version": "3.7.3"
  }
 },
 "nbformat": 4,
 "nbformat_minor": 2
}
